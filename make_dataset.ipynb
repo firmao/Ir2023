{
 "cells": [
  {
   "cell_type": "markdown",
   "metadata": {},
   "source": [
    "# Building the dataset of research papers"
   ]
  },
  {
   "cell_type": "markdown",
   "metadata": {},
   "source": [
    "The [Entrez](http://biopython.org/DIST/docs/api/Bio.Entrez-module.html) module, a part of the [Biopython](http://biopython.org/) library, will be used to interface with [PubMed](http://www.ncbi.nlm.nih.gov/pubmed).<br>\n",
    "You can download Biopython from [here](http://biopython.org/wiki/Download).\n",
    "\n",
    "In this notebook we will be covering several of the steps taken in the [Biopython Tutorial](http://biopython.org/DIST/docs/tutorial/Tutorial.html), specifically in [Chapter 9  Accessing NCBI’s Entrez databases](http://biopython.org/DIST/docs/tutorial/Tutorial.html#htoc109)."
   ]
  },
  {
   "cell_type": "code",
   "execution_count": 2,
   "metadata": {
    "tags": []
   },
   "outputs": [
    {
     "name": "stdout",
     "output_type": "stream",
     "text": [
      "Requirement already satisfied: biopython in /usr/local/python/3.12.1/lib/python3.12/site-packages (1.84)\n",
      "Requirement already satisfied: numpy in /home/codespace/.local/lib/python3.12/site-packages (from biopython) (2.1.1)\n",
      "Note: you may need to restart the kernel to use updated packages.\n"
     ]
    }
   ],
   "source": [
    "%pip install biopython"
   ]
  },
  {
   "cell_type": "code",
   "execution_count": 3,
   "metadata": {
    "tags": []
   },
   "outputs": [],
   "source": [
    "from Bio import Entrez\n",
    "\n",
    "# NCBI requires you to set your email address to make use of NCBI's E-utilities\n",
    "Entrez.email = \"a.valdestilhas@vu.nl\""
   ]
  },
  {
   "cell_type": "markdown",
   "metadata": {},
   "source": [
    "The datasets will be saved as serialized Python objects, compressed with bzip2.\n",
    "Saving/loading them will therefore require the [pickle](http://docs.python.org/3/library/pickle.html) and [bz2](http://docs.python.org/3/library/bz2.html) modules."
   ]
  },
  {
   "cell_type": "code",
   "execution_count": 4,
   "metadata": {
    "tags": []
   },
   "outputs": [],
   "source": [
    "import pickle, bz2, os"
   ]
  },
  {
   "cell_type": "markdown",
   "metadata": {},
   "source": [
    "## EInfo: Obtaining information about the Entrez databases"
   ]
  },
  {
   "cell_type": "code",
   "execution_count": 5,
   "metadata": {
    "tags": []
   },
   "outputs": [],
   "source": [
    "# accessing extended information about the PubMed database\n",
    "pubmed = Entrez.read( Entrez.einfo(db=\"pubmed\"), validate=False )[u'DbInfo']\n",
    "\n",
    "# list of possible search fields for use with ESearch:\n",
    "search_fields = { f['Name']:f['Description'] for f in pubmed[\"FieldList\"] }"
   ]
  },
  {
   "cell_type": "markdown",
   "metadata": {},
   "source": [
    "In search_fields, we find 'TIAB' ('Free text associated with Abstract/Title') as a possible search field to use in searches."
   ]
  },
  {
   "cell_type": "code",
   "execution_count": 6,
   "metadata": {
    "tags": []
   },
   "outputs": [
    {
     "data": {
      "text/plain": [
       "{'ALL': 'All terms from all searchable fields',\n",
       " 'UID': 'Unique number assigned to publication',\n",
       " 'FILT': 'Limits the records',\n",
       " 'TITL': 'Words in title of publication',\n",
       " 'MESH': 'Medical Subject Headings assigned to publication',\n",
       " 'MAJR': 'MeSH terms of major importance to publication',\n",
       " 'JOUR': 'Journal abbreviation of publication',\n",
       " 'AFFL': \"Author's institutional affiliation and address\",\n",
       " 'ECNO': 'EC number for enzyme or CAS registry number',\n",
       " 'SUBS': 'CAS chemical name or MEDLINE Substance Name',\n",
       " 'PDAT': 'Date of publication',\n",
       " 'EDAT': 'Date publication first accessible through Entrez',\n",
       " 'VOL': 'Volume number of publication',\n",
       " 'PAGE': 'Page number(s) of publication',\n",
       " 'PTYP': 'Type of publication (e.g., review)',\n",
       " 'LANG': 'Language of publication',\n",
       " 'ISS': 'Issue number of publication',\n",
       " 'SUBH': 'Additional specificity for MeSH term',\n",
       " 'SI': 'Cross-reference from publication to other databases',\n",
       " 'MHDA': 'Date publication was indexed with MeSH terms',\n",
       " 'TIAB': 'Free text associated with Abstract/Title',\n",
       " 'OTRM': 'Other terms associated with publication',\n",
       " 'COLN': 'Corporate Author of publication',\n",
       " 'CNTY': 'Country of publication',\n",
       " 'PAPX': 'MeSH pharmacological action pre-explosions',\n",
       " 'GRNT': 'NIH Grant Numbers',\n",
       " 'MDAT': 'Date of last modification',\n",
       " 'CDAT': 'Date of completion',\n",
       " 'PID': 'Publisher ID',\n",
       " 'FAUT': 'First Author of publication',\n",
       " 'FULL': 'Full Author Name(s) of publication',\n",
       " 'FINV': 'Full name of investigator',\n",
       " 'TT': 'Words in transliterated title of publication',\n",
       " 'LAUT': 'Last Author of publication',\n",
       " 'PPDT': 'Date of print publication',\n",
       " 'EPDT': 'Date of Electronic publication',\n",
       " 'LID': 'ELocation ID',\n",
       " 'CRDT': 'Date publication first accessible through Entrez',\n",
       " 'BOOK': 'ID of the book that contains the document',\n",
       " 'ED': \"Section's Editor\",\n",
       " 'ISBN': 'ISBN',\n",
       " 'PUBN': \"Publisher's name\",\n",
       " 'AUCL': 'Author Cluster ID',\n",
       " 'EID': 'Extended PMID',\n",
       " 'DSO': 'Additional text from the summary',\n",
       " 'AUID': 'Author Identifier',\n",
       " 'PS': 'Personal Name as Subject',\n",
       " 'COIS': 'Conflict of Interest Statements',\n",
       " 'WORD': 'Free text associated with publication',\n",
       " 'P1DAT': 'Date publication first accessible through Solr'}"
      ]
     },
     "execution_count": 6,
     "metadata": {},
     "output_type": "execute_result"
    }
   ],
   "source": [
    "search_fields"
   ]
  },
  {
   "cell_type": "markdown",
   "metadata": {},
   "source": [
    "## ESearch: Searching the Entrez databases"
   ]
  },
  {
   "cell_type": "markdown",
   "metadata": {},
   "source": [
    "To have a look at the kind of data we get when searching the database, we'll perform a search for papers authored by Haasdijk:"
   ]
  },
  {
   "cell_type": "code",
   "execution_count": 7,
   "metadata": {
    "tags": []
   },
   "outputs": [
    {
     "data": {
      "text/plain": [
       "{'Count': '41', 'RetMax': '20', 'RetStart': '0', 'IdList': ['39325889', '38631313', '33501027', '33501026', '33500899', '29311830', '28513205', '28513201', '28323435', '28140628', '26933487', '24977986', '24901702', '24852945', '24708899', '24252306', '23580075', '23144668', '22174697', '22154920'], 'TranslationSet': [{'From': 'Haasdijk E[AUTH]', 'To': 'haasdijk e[Author]'}], 'QueryTranslation': 'haasdijk e[Author]'}"
      ]
     },
     "execution_count": 7,
     "metadata": {},
     "output_type": "execute_result"
    }
   ],
   "source": [
    "example_authors = ['Haasdijk E']\n",
    "example_search = Entrez.read( Entrez.esearch( db=\"pubmed\", term=' AND '.join([a+'[AUTH]' for a in example_authors]) ) )\n",
    "example_search"
   ]
  },
  {
   "cell_type": "markdown",
   "metadata": {},
   "source": [
    "Note how the result being produced is not in Python's native string format:"
   ]
  },
  {
   "cell_type": "code",
   "execution_count": 8,
   "metadata": {
    "tags": []
   },
   "outputs": [
    {
     "data": {
      "text/plain": [
       "Bio.Entrez.Parser.StringElement"
      ]
     },
     "execution_count": 8,
     "metadata": {},
     "output_type": "execute_result"
    }
   ],
   "source": [
    "type( example_search['IdList'][0] )"
   ]
  },
  {
   "cell_type": "markdown",
   "metadata": {},
   "source": [
    "The part of the query's result we are most interested in is accessible through"
   ]
  },
  {
   "cell_type": "code",
   "execution_count": 9,
   "metadata": {
    "tags": []
   },
   "outputs": [
    {
     "name": "stdout",
     "output_type": "stream",
     "text": [
      "[39325889, 38631313, 33501027, 33501026, 33500899, 29311830, 28513205, 28513201, 28323435, 28140628, 26933487, 24977986, 24901702, 24852945, 24708899, 24252306, 23580075, 23144668, 22174697, 22154920]\n"
     ]
    }
   ],
   "source": [
    "example_ids = [ int(id) for id in example_search['IdList'] ]\n",
    "print(example_ids)"
   ]
  },
  {
   "cell_type": "markdown",
   "metadata": {},
   "source": [
    "### PubMed IDs dataset"
   ]
  },
  {
   "cell_type": "markdown",
   "metadata": {},
   "source": [
    "We will now assemble a dataset comprised of research articles containing the given keyword, in either their titles or abstracts."
   ]
  },
  {
   "cell_type": "code",
   "execution_count": 10,
   "metadata": {},
   "outputs": [],
   "source": [
    "search_term = 'andre'"
   ]
  },
  {
   "cell_type": "code",
   "execution_count": 11,
   "metadata": {},
   "outputs": [],
   "source": [
    "Ids_file = 'data2/' + search_term + '_Ids.pkl.bz2'"
   ]
  },
  {
   "cell_type": "code",
   "execution_count": 12,
   "metadata": {},
   "outputs": [
    {
     "name": "stdout",
     "output_type": "stream",
     "text": [
      "Fetching IDs of results [0,10000]\n",
      "ID 29757679 not found in the list.\n",
      "ID 28155421 not found in the list.\n",
      "ID 27936261 not found in the list.\n",
      "ID 27936256 not found in the list.\n",
      "ID 27885317 not found in the list.\n",
      "ID 27810869 not found in the list.\n",
      "ID 27732103 not found in the list.\n",
      "ID 27603804 not found in the list.\n",
      "ID 27570958 not found in the list.\n",
      "ID 27570955 not found in the list.\n",
      "ID 27570953 not found in the list.\n",
      "ID 27570952 not found in the list.\n",
      "ID 27570951 not found in the list.\n",
      "ID 27570950 not found in the list.\n",
      "ID 27200465 not found in the list.\n",
      "ID 26966857 not found in the list.\n",
      "ID 25590542 not found in the list.\n",
      "1082 documents contain the search term \"andre\".\n"
     ]
    }
   ],
   "source": [
    "if os.path.exists( Ids_file ):\n",
    "    Ids = pickle.load( bz2.BZ2File( Ids_file, 'rb' ) )\n",
    "else:\n",
    "    # determine the number of hits for the search term\n",
    "    search = Entrez.read( Entrez.esearch( db=\"pubmed\", term=search_term+'[TIAB]', retmax=0 ) )\n",
    "    total = int( search['Count'] )\n",
    "    \n",
    "    # `Ids` will be incrementally assembled, by performing multiple queries,\n",
    "    # each returning at most `retrieve_per_query` entries.\n",
    "    Ids_str = []\n",
    "    retrieve_per_query = 10000\n",
    "    \n",
    "    for start in range( 0, total, retrieve_per_query ):\n",
    "        print('Fetching IDs of results [%d,%d]' % ( start, start+retrieve_per_query ) )\n",
    "        s = Entrez.read( Entrez.esearch( db=\"pubmed\", term=search_term+'[TIAB]', retstart=0, retmax=retrieve_per_query ) )\n",
    "        Ids_str.extend( s[ u'IdList' ] )\n",
    "    \n",
    "    # convert Ids to integers (and ensure that the conversion is reversible)\n",
    "    Ids = [ int(id) for id in Ids_str ]\n",
    "    \n",
    "    for (id_str, id_int) in zip(Ids_str, Ids):\n",
    "        if str(id_int) != id_str:\n",
    "            raise Exception('Conversion of PubMed ID %s from string to integer it not reversible.' % id_str )\n",
    "    \n",
    "ids_to_remove = [\n",
    "    29757679, 28155421, 27936261, 27936256, 27885317, 27810869,\n",
    "    27732103, 27603804, 27570958, 27570955, 27570953, 27570952,\n",
    "    27570951, 27570950, 27200465, 26966857, 25590542\n",
    "]\n",
    "\n",
    "for id_to_remove in ids_to_remove:\n",
    "    try:\n",
    "        Ids.remove(id_to_remove)\n",
    "    except ValueError:\n",
    "        print(f\"ID {id_to_remove} not found in the list.\")\n",
    "\n",
    "    \n",
    "    # Save list of Ids\n",
    "    pickle.dump( Ids, bz2.BZ2File( Ids_file, 'wb' ) )\n",
    "    \n",
    "total = len( Ids )\n",
    "print('%d documents contain the search term \"%s\".' % ( total, search_term ) )"
   ]
  },
  {
   "cell_type": "markdown",
   "metadata": {},
   "source": [
    "Taking a look at what we just retrieved, here are the last 5 elements of the `Ids` list:"
   ]
  },
  {
   "cell_type": "code",
   "execution_count": 13,
   "metadata": {},
   "outputs": [
    {
     "data": {
      "text/plain": [
       "[39317926, 39241711, 39202126, 39146557, 39142061]"
      ]
     },
     "execution_count": 13,
     "metadata": {},
     "output_type": "execute_result"
    }
   ],
   "source": [
    "Ids[:5]"
   ]
  },
  {
   "cell_type": "markdown",
   "metadata": {},
   "source": [
    "## ESummary: Retrieving summaries from primary IDs"
   ]
  },
  {
   "cell_type": "markdown",
   "metadata": {},
   "source": [
    "To have a look at the kind of metadata we get from a call to `Entrez.esummary()`, we now fetch the summary of one of Haasdijk's papers (using one of the PubMed IDs we obtained in the previous section:"
   ]
  },
  {
   "cell_type": "code",
   "execution_count": 14,
   "metadata": {},
   "outputs": [
    {
     "name": "stdout",
     "output_type": "stream",
     "text": [
      "Item\n",
      "\t []\n",
      "Id\n",
      "\t 34648188\n",
      "PubDate\n",
      "\t 2022 Sep\n",
      "EPubDate\n",
      "\t 2021 Oct 14\n",
      "Source\n",
      "\t J Rural Health\n",
      "AuthorList\n",
      "\t ['Fletcher TL', 'Amspoker AB', 'Wassef M', 'Hogan JB', 'Helm A', 'Jackson C', 'Jacobs A', 'Shammet R', 'Speicher S', 'Lindsay JA', 'Cloitre M']\n",
      "LastAuthor\n",
      "\t Cloitre M\n",
      "Title\n",
      "\t Increasing access to care for trauma-exposed rural veterans: A mixed methods outcome evaluation of a web-based skills training program with telehealth-delivered coaching.\n",
      "Volume\n",
      "\t 38\n",
      "Issue\n",
      "\t 4\n",
      "Pages\n",
      "\t 740-747\n",
      "LangList\n",
      "\t ['English']\n",
      "NlmUniqueID\n",
      "\t 8508122\n",
      "ISSN\n",
      "\t 0890-765X\n",
      "ESSN\n",
      "\t 1748-0361\n",
      "PubTypeList\n",
      "\t ['Journal Article', 'Randomized Controlled Trial']\n",
      "RecordStatus\n",
      "\t PubMed - indexed for MEDLINE\n",
      "PubStatus\n",
      "\t ppublish+epublish\n",
      "ArticleIds\n",
      "\t {'medline': [], 'pubmed': ['34648188'], 'doi': '10.1111/jrh.12628'}\n",
      "DOI\n",
      "\t 10.1111/jrh.12628\n",
      "History\n",
      "\t {'medline': ['2022/09/24 06:00'], 'pubmed': ['2021/10/15 06:00'], 'entrez': '2021/10/14 12:31'}\n",
      "References\n",
      "\t []\n",
      "HasAbstract\n",
      "\t IntegerElement(1, attributes={})\n",
      "PmcRefCount\n",
      "\t IntegerElement(0, attributes={})\n",
      "FullJournalName\n",
      "\t The Journal of rural health : official journal of the American Rural Health Association and the National Rural Health Care Association\n",
      "ELocationID\n",
      "\t doi: 10.1111/jrh.12628\n",
      "SO\n",
      "\t 2022 Sep;38(4):740-747\n"
     ]
    }
   ],
   "source": [
    "example_paper = Entrez.read( Entrez.esummary(db=\"pubmed\", id='34648188') )[0]\n",
    "\n",
    "def print_dict( p ):\n",
    "    for k,v in p.items():\n",
    "        print(k)\n",
    "        print('\\t', v)\n",
    "\n",
    "print_dict(example_paper)"
   ]
  },
  {
   "cell_type": "markdown",
   "metadata": {},
   "source": [
    "For now, we'll keep just some basic information for each paper: title, list of authors, publication year, and [DOI](https://en.wikipedia.org/wiki/Digital_object_identifier).\n",
    "\n",
    "In case you are not familiar with the DOI system, know that the paper above can be accessed through the link  `https://www.doi.org/` followed by the paper's DOI."
   ]
  },
  {
   "cell_type": "code",
   "execution_count": 15,
   "metadata": {},
   "outputs": [
    {
     "data": {
      "text/plain": [
       "('Increasing access to care for trauma-exposed rural veterans: A mixed methods outcome evaluation of a web-based skills training program with telehealth-delivered coaching.',\n",
       " ['Fletcher TL', 'Amspoker AB', 'Wassef M', 'Hogan JB', 'Helm A', 'Jackson C', 'Jacobs A', 'Shammet R', 'Speicher S', 'Lindsay JA', 'Cloitre M'],\n",
       " 2022,\n",
       " '10.1111/jrh.12628')"
      ]
     },
     "execution_count": 15,
     "metadata": {},
     "output_type": "execute_result"
    }
   ],
   "source": [
    "( example_paper['Title'], example_paper['AuthorList'], int(example_paper['PubDate'][:4]), example_paper['DOI'] )"
   ]
  },
  {
   "cell_type": "markdown",
   "metadata": {},
   "source": [
    "### Summaries dataset"
   ]
  },
  {
   "cell_type": "markdown",
   "metadata": {},
   "source": [
    "We are now ready to assemble a dataset containing the summaries of all the paper `Ids` we previously fetched.\n",
    "\n",
    "To reduce the memory footprint, and to ensure the saved datasets won't depend on Biopython being installed to be properly loaded, values returned by `Entrez.read()` will be converted to their corresponding native Python types. We start by defining a function for helping with the conversion of strings:"
   ]
  },
  {
   "cell_type": "code",
   "execution_count": 16,
   "metadata": {},
   "outputs": [],
   "source": [
    "Summaries_file = 'data2/' + search_term + '_Summaries.pkl.bz2'"
   ]
  },
  {
   "cell_type": "code",
   "execution_count": 17,
   "metadata": {},
   "outputs": [
    {
     "name": "stdout",
     "output_type": "stream",
     "text": [
      "Fetching Summaries of results: \n",
      "\n",
      "0.."
     ]
    }
   ],
   "source": [
    "if os.path.exists( Summaries_file ):\n",
    "    Summaries = pickle.load( bz2.BZ2File( Summaries_file, 'rb' ) )\n",
    "else:\n",
    "    # `Summaries` will be incrementally assembled, by performing multiple queries,\n",
    "    # each returning at most `retrieve_per_query` entries.\n",
    "    Summaries = []\n",
    "    retrieve_per_query = 500\n",
    "    \n",
    "    print('Fetching Summaries of results: ')\n",
    "    for start in range( 0, len(Ids), retrieve_per_query ):\n",
    "        if (start % 10000 == 0):\n",
    "            print('')\n",
    "            print(start, end='')\n",
    "        else:\n",
    "            print('.', end='')\n",
    "        \n",
    "        # build comma separated string with the ids at indexes [start, start+retrieve_per_query)\n",
    "        query_ids = ','.join( [ str(id) for id in Ids[ start : start+retrieve_per_query ] ] )\n",
    "        \n",
    "        s = Entrez.read( Entrez.esummary( db=\"pubmed\", id=query_ids ) )\n",
    "        \n",
    "        # out of the retrieved data, we will keep only a tuple (title, authors, year, DOI), associated with the paper's id.\n",
    "        # (all values converted to native Python formats)\n",
    "        for p in s:\n",
    "            try:\n",
    "                f = [\n",
    "                    ( int( p['Id'] ), (\n",
    "                        str( p['Title'] ),\n",
    "                        [ str(a) for a in p['AuthorList'] ],\n",
    "                        int( p['PubDate'][:4] ),                # keeps just the publication year\n",
    "                        str( p.get('DOI', '') )            # papers for which no DOI is available get an empty string in their place\n",
    "                        ) )\n",
    "                    ]\n",
    "                Summaries.extend( f )\n",
    "            except ValueError as e:\n",
    "                print(\"\\nError with ID \" + p['Id'] + \": \" + str(e))\n",
    "                print(\"Manually remove this ID above and re-run code.\")\n",
    "    \n",
    "    # Save Summaries, as a dictionary indexed by Ids\n",
    "    Summaries = dict( Summaries )\n",
    "    \n",
    "    pickle.dump( Summaries, bz2.BZ2File( Summaries_file, 'wb' ) )"
   ]
  },
  {
   "cell_type": "markdown",
   "metadata": {},
   "source": [
    "Let us take a look at the first 3 retrieved summaries:"
   ]
  },
  {
   "cell_type": "code",
   "execution_count": 18,
   "metadata": {},
   "outputs": [
    {
     "data": {
      "text/plain": [
       "{39317926: (\"Early depiction of anterior spinal arteries and veins in André du Laurens's Historia anatomica humani corporis (1600).\",\n",
       "  ['Gailloud P'],\n",
       "  2024,\n",
       "  '10.1080/0964704X.2024.2399535'),\n",
       " 39241711: ('Reversible Phasonic Control of a Quantum Phase Transition in a Quasicrystal.',\n",
       "  ['Shimasaki T',\n",
       "   'Bai Y',\n",
       "   'Kondakci HE',\n",
       "   'Dotti P',\n",
       "   'Pagett JE',\n",
       "   'Dardia AR',\n",
       "   'Prichard M',\n",
       "   'Eckardt A',\n",
       "   'Weld DM'],\n",
       "  2024,\n",
       "  '10.1103/PhysRevLett.133.083405'),\n",
       " 39202126: ('Survival Probability, Particle Imbalance, and Their Relationship in Quadratic Models.',\n",
       "  ['Hopjan M', 'Vidmar L'],\n",
       "  2024,\n",
       "  '10.3390/e26080656')}"
      ]
     },
     "execution_count": 18,
     "metadata": {},
     "output_type": "execute_result"
    }
   ],
   "source": [
    "{ id : Summaries[id] for id in Ids[:3] }"
   ]
  },
  {
   "cell_type": "markdown",
   "metadata": {},
   "source": [
    "## EFetch: Downloading full records from Entrez"
   ]
  },
  {
   "cell_type": "markdown",
   "metadata": {},
   "source": [
    "`Entrez.efetch()` is the function that will allow us to obtain paper abstracts. Let us start by taking a look at the kind of data it returns when we query PubMed's database."
   ]
  },
  {
   "cell_type": "code",
   "execution_count": 19,
   "metadata": {},
   "outputs": [],
   "source": [
    "q = Entrez.read( Entrez.efetch(db=\"pubmed\", id='34648188', retmode=\"xml\") )['PubmedArticle']"
   ]
  },
  {
   "cell_type": "markdown",
   "metadata": {},
   "source": [
    "`q` is a list, with each member corresponding to a queried id. Because here we only queried for one id, its results are then in `q[0]`."
   ]
  },
  {
   "cell_type": "code",
   "execution_count": 20,
   "metadata": {},
   "outputs": [
    {
     "data": {
      "text/plain": [
       "(list, 1)"
      ]
     },
     "execution_count": 20,
     "metadata": {},
     "output_type": "execute_result"
    }
   ],
   "source": [
    "type(q), len(q)"
   ]
  },
  {
   "cell_type": "markdown",
   "metadata": {},
   "source": [
    "1\n",
    "At `q[0]` we find a dictionary containing two keys, the contents of which we print below."
   ]
  },
  {
   "cell_type": "code",
   "execution_count": 21,
   "metadata": {},
   "outputs": [
    {
     "data": {
      "text/plain": [
       "(Bio.Entrez.Parser.DictionaryElement,\n",
       " dict_keys(['MedlineCitation', 'PubmedData']))"
      ]
     },
     "execution_count": 21,
     "metadata": {},
     "output_type": "execute_result"
    }
   ],
   "source": [
    "type(q[0]), q[0].keys()"
   ]
  },
  {
   "cell_type": "code",
   "execution_count": 22,
   "metadata": {},
   "outputs": [
    {
     "name": "stdout",
     "output_type": "stream",
     "text": [
      "ReferenceList\n",
      "\t [{'Reference': [{'Citation': \"Sadler AG, Booth BM, Mengeling MA, Doebbeling BN. Life span and repeated violence against women during military service: effects on health status and outpatient utilization. J Women's Health. 2004;13(7):799-811.\"}, {'Citation': 'Scherrer JF, Xian H, Kapp JMK, et\\xa0al. Association between exposure to childhood and lifetime traumatic events and lifetime pathological gambling in a twin cohort. J Nerv Ment Dis. 2007;195(1):72-78.'}, {'Citation': 'Katon JG, Lehavot K, Simpson TL, et\\xa0al. Adverse childhood experiences, military service, and adult health. Am J Prev Med. 2015;49(4):573-582.'}, {'Citation': 'Koenen KC, Stellman SD, Sommer Jr JF, Stellman JM. Persisting posttraumatic stress disorder symptoms and their relationship to functioning in Vietnam veterans: a 14-year follow-up. J Trauma Stress. 2008;21(1):49-57.'}, {'Citation': 'Kessler RC. Posttraumatic stress disorder: the burden to the individual and to society. J Clin Psychiatry. 2000;61(5):4-12.'}, {'Citation': 'Weeks WB, Kazis LE, Shen Y, et\\xa0al. Differences in health-related quality of life in rural and urban veterans. Am J Public Health. 2004;94(10):1762-1767.'}, {'Citation': 'Kondo K, Low A, Everson T, et\\xa0al. Health disparities in veterans: a map of the evidence. Med Care. 2017;55:S9-S15.'}, {'Citation': 'Elnitsky CA, Andresen EM, Clark ME, McGarity S, Hall CG, Kerns RD. Access to the US Department of Veterans Affairs health system: self-reported barriers to care among returnees of Operations Enduring Freedom and Iraqi Freedom. BMC Health Serv Res. 2013;13(1):1-10.'}, {'Citation': 'Pietrzak RH, Johnson DC, Goldstein MB, Malley JC, Southwick SM. Perceived stigma and barriers to mental health care utilization among OEF-OIF veterans. Psychiatr Serv. 2009;60(8):1118-1122.'}, {'Citation': \"Kehle-Forbes SM, Harwood EM, Spoont MR, Sayer NA, Gerould H, Murdoch M. Experiences with VHA care: a qualitative study of US women veterans with self-reported trauma histories. BMC Women's Health. 2017;17(1)1-8.\"}, {'Citation': \"Klap R, Darling JE, Hamilton AB, et\\xa0al. Prevalence of stranger harassment of women veterans at Veterans Affairs Medical Centers and impacts on delayed and missed care. Women's Health Issues. 2019;29(2):107-115.\"}, {'Citation': 'Mohr D, Cuijpers P, Lehman K. Supportive accountability: a model for providing human support to enhance adherence to eHealth interventions. J Med Internet Res. 2011;13(1):e30.'}, {'Citation': 'Andersson G, Cuijpers P. Internet-based and other computerized psychological treatments for adult depression: a meta-analysis. Cogn Behav Ther. 2009;38(4):196-205.'}, {'Citation': 'Rothman K, Roddy MK, Doss BD. Completion of a stand-alone versus coach-supported trial of a web-based program for distressed relationships. Fam Rel. 2019;68(4):375-389.'}, {'Citation': 'Erbe D, Eichert HC, Riper H, Ebert DD. Blending face-to-face and internet-based interventions for the treatment of mental disorders in adults: systematic review. J Med Internet Res. 2017;19(9):e306.'}, {'Citation': 'Hobfoll SE, Blais RK, Stevens NR, Walt L, Gengler R. Vets prevail online intervention reduces PTSD and depression in veterans with mild-to-moderate symptoms. J Consult Clin Psychol. 2016;84(1):31-42.'}, {'Citation': 'Lehavot K, Millard SP, Thomas RM, et\\xa0al. A randomized trial of an online, coach-assisted self-management PTSD intervention tailored for women veterans. J Consult Clin Psychol. 2021;89(2):134-142.'}, {'Citation': 'Belsher BE, Kuhn E, Maron D, et\\xa0al. A preliminary study of an Internet-based intervention for OEF/OIF veterans presenting for VA specialty PTSD care. J Trauma Stress. 2015;28(2):153-156.'}, {'Citation': 'Litz BT, Engel CC, Bryant RA, Papa A. A randomized, controlled proof-of-concept trial of an Internet-based, therapist-assisted self-management treatment for posttraumatic stress disorder. Am J Psychiatry. 2007;164(11):1676-1684.'}, {'Citation': 'Cloitre M, Cohen LR, Ortigo KM, Jackson C, Koenen KC. Treating Survivors of Childhood Abuse and Interpersonal Trauma: STAIR Narrative Therapy. Guilford Publications; 2020.'}, {'Citation': 'Cloitre M, Miranda R, Stovall-McClough KC, Han H. Beyond PTSD: emotion regulation and interpersonal problems as predictors of functional impairment in survivors of childhood abuse. Behav Ther. 2005;36(2):119-124.'}, {'Citation': 'Cloitre M, Khan C, Mackintosh MA, et\\xa0al. Emotion regulation mediates the relationship between ACES and physical and mental health. Psychol Trauma. 2019;11(1):82-89.'}, {'Citation': 'Bauer A, Amspoker AB, Fletcher TL, et\\xa0al. A resource building virtual care: programme improving symptoms and social functioning among female and male rural veterans. Eur J Psychotraumatol. 2021;12(1):1860357.'}, {'Citation': \"Maguen S, Cohen B, Ren L, Bosch J, Kimerling R, Seal K. Gender differences in military sexual trauma and mental health diagnoses among Iraq and Afghanistan veterans with posttraumatic stress disorder. Women's Health Issues. 2012;22(1):e61-e66.\"}, {'Citation': \"Skinner KM, Kressin N, Frayne S, et\\xa0al. The prevalence of military sexual assault among female Veterans' Administration outpatients. J Interpers Violence. 2000;15(3):291-310.\"}, {'Citation': 'Suris A, Lind L. Military sexual trauma: a review of prevalence and associated health consequences in veterans. Trauma Violence Abuse. 2008;9(4):250-269.'}, {'Citation': 'Prins A, Bovin MJ, Smolenski DJ, et\\xa0al. The primary care PTSD screen for DSM-5 (PC-PTSD-5): development and evaluation within a veteran primary care sample. J Gen Intern Med. 2016;31(10):1206-1211.'}, {'Citation': 'Kroenke K, Spitzer RL, Williams JB. The Patient Health Questionnaire-2: validity of a two-item depression screener. Med Care. 2003;11:1284-1292.'}, {'Citation': 'Serfaty M, Shafran R, Vickerstaff V, Aspden T. A pragmatic approach to measuring adherence in treatment delivery in psychotherapy. Cogn Behav Ther. 2020;49(5):347-360.'}, {'Citation': 'Weathers FW, Litz BT, Keane TM, Palmieri PA, Marx BP, Schnurr PP. The PTSD Checklist for DSM-5 (PCL-5). National Center for PTSD.'}, {'Citation': 'Bovin MJ, Marx BP, Weathers FW, et\\xa0al. Psychometric properties of the PTSD checklist for diagnostic and statistical manual of mental disorders-fifth edition (PCL-5) in veterans. Psychol Assess. 2016;28(11):1379-1391.'}, {'Citation': 'Kroenke K, Spitzer RL, Williams JB. The PHQ-9: validity of a brief depression severity measure. J Gen Intern Med. 2001;16(9):606-613.'}, {'Citation': 'Gratz KL, Roemer L. Multidimensional assessment of emotion regulation and dysregulation: development, factor structure, and initial validation of the difficulties in emotion regulation scale. J Psychopathol Behav Assess. 2004;26(1):41-54.'}, {'Citation': 'Barkham M, Hardy GE, Startup M. The IIP-32: a short version of the Inventory of Interpersonal Problems. Br J Clin Psychol. 1996;35(1):21-35.'}, {'Citation': 'Horvath AO, Greenberg LS. Development and validation of the Working Alliance Inventory. J Counsel Psychol. 1989;36(2):223-233.'}, {'Citation': 'Cohen J. The effect size. Statistical Power Analysis for the Behavioral Sciences. 2nd ed., 77-83. Hillsdale, New Jersey: Lawrence Erlbaum Associates; 1988.'}, {'Citation': \"Sobo EJ, Simmes DR, Landsverk JA, Kurtin PS. Rapid assessment with qualitative telephone interviews: lessons from an evaluation of California's healthy families program & Medi-Cal for children. Am J Eval. 2003;24(3):399-408.\"}, {'Citation': 'Curran GM, Pyne J, Fortney JC, et\\xa0al. Development and implementation of collaborative care for depression in HIV clinics. AIDS Care. 2011;23(12):1626-1636.'}, {'Citation': 'Acierno R, Knapp R, Tuerk P, et\\xa0al. A non-inferiority trial of prolonged exposure for posttraumatic stress disorder: in person versus home-based telehealth. Behav Res Ther. 2017;89:57-65.'}, {'Citation': 'Morland LA, Mackintosh MA, Greene CJ, et\\xa0al. Cognitive processing therapy for posttraumatic stress disorder delivered to rural veterans via telemental health: a randomized noninferiority clinical trial. J Clin Psychiatry. 2014;75(5):470-476.'}, {'Citation': 'Eysenbach G. The law of attrition. J Med Internet Res. 2005;7(1):e11.'}, {'Citation': 'Cullen W, Gulati G, Kelly BD. Mental health in the Covid-19 pandemic. QJM. 2020;113(5):311-312.'}], 'ReferenceList': [], 'Title': 'REFERENCES'}]\n",
      "History\n",
      "\t [DictElement({'Year': '2021', 'Month': '10', 'Day': '15', 'Hour': '6', 'Minute': '0'}, attributes={'PubStatus': 'pubmed'}), DictElement({'Year': '2022', 'Month': '9', 'Day': '24', 'Hour': '6', 'Minute': '0'}, attributes={'PubStatus': 'medline'}), DictElement({'Year': '2021', 'Month': '10', 'Day': '14', 'Hour': '12', 'Minute': '31'}, attributes={'PubStatus': 'entrez'})]\n",
      "PublicationStatus\n",
      "\t ppublish\n",
      "ArticleIdList\n",
      "\t [StringElement('34648188', attributes={'IdType': 'pubmed'}), StringElement('10.1111/jrh.12628', attributes={'IdType': 'doi'})]\n"
     ]
    }
   ],
   "source": [
    "print_dict( q[0][ 'PubmedData' ] )"
   ]
  },
  {
   "cell_type": "markdown",
   "metadata": {},
   "source": [
    "The key `'MedlineCitation'` maps into another dictionary. In that dictionary, most of the information is contained under the key `'Article'`. To minimize the clutter, below we show the contents of `'MedlineCitation'` excluding its `'Article'` member, and below that we then show the contents of `'Article'`."
   ]
  },
  {
   "cell_type": "code",
   "execution_count": 23,
   "metadata": {},
   "outputs": [
    {
     "name": "stdout",
     "output_type": "stream",
     "text": [
      "OtherAbstract\n",
      "\t []\n",
      "KeywordList\n",
      "\t [ListElement([StringElement('access to care', attributes={'MajorTopicYN': 'N'}), StringElement('telemental health', attributes={'MajorTopicYN': 'N'}), StringElement('trauma', attributes={'MajorTopicYN': 'N'}), StringElement('veterans', attributes={'MajorTopicYN': 'N'}), StringElement('web-based treatment', attributes={'MajorTopicYN': 'N'})], attributes={'Owner': 'NOTNLM'})]\n",
      "InvestigatorList\n",
      "\t []\n",
      "GeneralNote\n",
      "\t []\n",
      "SpaceFlightMission\n",
      "\t []\n",
      "CitationSubset\n",
      "\t ['IM']\n",
      "OtherID\n",
      "\t []\n",
      "PMID\n",
      "\t 34648188\n",
      "DateCompleted\n",
      "\t {'Year': '2022', 'Month': '09', 'Day': '23'}\n",
      "DateRevised\n",
      "\t {'Year': '2022', 'Month': '10', 'Day': '03'}\n",
      "MedlineJournalInfo\n",
      "\t {'Country': 'England', 'MedlineTA': 'J Rural Health', 'NlmUniqueID': '8508122', 'ISSNLinking': '0890-765X'}\n",
      "MeshHeadingList\n",
      "\t [{'QualifierName': [], 'DescriptorName': StringElement('Female', attributes={'UI': 'D005260', 'MajorTopicYN': 'N'})}, {'QualifierName': [], 'DescriptorName': StringElement('Health Services Accessibility', attributes={'UI': 'D006297', 'MajorTopicYN': 'N'})}, {'QualifierName': [], 'DescriptorName': StringElement('Humans', attributes={'UI': 'D006801', 'MajorTopicYN': 'N'})}, {'QualifierName': [], 'DescriptorName': StringElement('Internet', attributes={'UI': 'D020407', 'MajorTopicYN': 'N'})}, {'QualifierName': [], 'DescriptorName': StringElement('Mentoring', attributes={'UI': 'D000071252', 'MajorTopicYN': 'Y'})}, {'QualifierName': [], 'DescriptorName': StringElement('Pilot Projects', attributes={'UI': 'D010865', 'MajorTopicYN': 'N'})}, {'QualifierName': [StringElement('psychology', attributes={'UI': 'Q000523', 'MajorTopicYN': 'N'}), StringElement('therapy', attributes={'UI': 'Q000628', 'MajorTopicYN': 'N'})], 'DescriptorName': StringElement('Stress Disorders, Post-Traumatic', attributes={'UI': 'D013313', 'MajorTopicYN': 'Y'})}, {'QualifierName': [StringElement('methods', attributes={'UI': 'Q000379', 'MajorTopicYN': 'N'})], 'DescriptorName': StringElement('Telemedicine', attributes={'UI': 'D017216', 'MajorTopicYN': 'Y'})}, {'QualifierName': [StringElement('psychology', attributes={'UI': 'Q000523', 'MajorTopicYN': 'N'})], 'DescriptorName': StringElement('Veterans', attributes={'UI': 'D014728', 'MajorTopicYN': 'Y'})}]\n"
     ]
    }
   ],
   "source": [
    "print_dict( { k:v for k,v in q[0][ 'MedlineCitation' ].items() if k!='Article' } )"
   ]
  },
  {
   "cell_type": "code",
   "execution_count": 24,
   "metadata": {},
   "outputs": [
    {
     "name": "stdout",
     "output_type": "stream",
     "text": [
      "ArticleDate\n",
      "\t [DictElement({'Year': '2021', 'Month': '10', 'Day': '14'}, attributes={'DateType': 'Electronic'})]\n",
      "Language\n",
      "\t ['eng']\n",
      "ELocationID\n",
      "\t [StringElement('10.1111/jrh.12628', attributes={'EIdType': 'doi', 'ValidYN': 'Y'})]\n",
      "Journal\n",
      "\t {'ISSN': StringElement('1748-0361', attributes={'IssnType': 'Electronic'}), 'JournalIssue': DictElement({'Volume': '38', 'Issue': '4', 'PubDate': {'Year': '2022', 'Month': 'Sep'}}, attributes={'CitedMedium': 'Internet'}), 'Title': 'The Journal of rural health : official journal of the American Rural Health Association and the National Rural Health Care Association', 'ISOAbbreviation': 'J Rural Health'}\n",
      "ArticleTitle\n",
      "\t Increasing access to care for trauma-exposed rural veterans: A mixed methods outcome evaluation of a web-based skills training program with telehealth-delivered coaching.\n",
      "Pagination\n",
      "\t {'StartPage': '740', 'EndPage': '747', 'MedlinePgn': '740-747'}\n",
      "Abstract\n",
      "\t {'AbstractText': [StringElement('While rural veterans with trauma exposure report high rates of posttraumatic stress disorder (PTSD), depression, and functional impairment, utilization of health services is low. This pilot study used mixed qualitative and quantitative methods to evaluate the potential benefits of a transdiagnostic web-based skills training program paired with telehealth-delivered coaching to address a range of symptoms and functional difficulties. The study directed substantial outreach efforts to women veterans who had experienced military sexual trauma given their growing representation in the Veterans Healthcare Administration (VHA) and identified need for services.', attributes={'Label': 'PURPOSE'}), StringElement('Participants were 32 trauma-exposed veterans enrolled in rural-serving VHA facilities who screened positive for either PTSD or depression. Symptoms of PTSD, depression, emotion regulation, and interpersonal problems were assessed at baseline, midpoint, posttreatment, and 3-month follow-up. Veterans completed exit interviews to identify benefits and limitations of the program.', attributes={'Label': 'METHODS'}), StringElement(\"Intent-to-treat analyses revealed significant symptom reduction for all outcomes, with large to moderate effect sizes at 3-month follow-up. Outcomes did not differ by gender or military sexual trauma status. Veterans' rating of the therapeutic alliance was high and interview responses indicated that the presence of the coach was critical to success in the program.\", attributes={'Label': 'RESULTS'}), StringElement('This remotely delivered transdiagnostic intervention provided significant benefits across a range of symptoms and functional outcomes and was viewed positively by veterans. The results indicate that further research (ie, a randomized controlled trial) is warranted. Attention to the role of the coach as a means by which to increase engagement and retention in technology-delivered interventions is warranted.', attributes={'Label': 'CONCLUSION'})], 'CopyrightInformation': '© 2021 National Rural Health Association.'}\n",
      "AuthorList\n",
      "\t ListElement([DictElement({'AffiliationInfo': [{'Identifier': [], 'Affiliation': 'VA HSR&D Houston Center of Innovations in Quality, Effectiveness and Safety, Michael E. DeBakey VA Medical Center, Houston, Texas, USA.'}, {'Identifier': [], 'Affiliation': 'Menninger Department of Psychiatry and Behavioral Sciences, Baylor College of Medicine, Houston, Texas, USA.'}, {'Identifier': [], 'Affiliation': 'VA South Central Mental Illness Research, Education and Clinical Center, Houston, Texas, USA.'}], 'Identifier': [], 'LastName': 'Fletcher', 'ForeName': 'Terri L', 'Initials': 'TL'}, attributes={'ValidYN': 'Y'}), DictElement({'AffiliationInfo': [{'Identifier': [], 'Affiliation': 'VA HSR&D Houston Center of Innovations in Quality, Effectiveness and Safety, Michael E. DeBakey VA Medical Center, Houston, Texas, USA.'}, {'Identifier': [], 'Affiliation': 'VA South Central Mental Illness Research, Education and Clinical Center, Houston, Texas, USA.'}, {'Identifier': [], 'Affiliation': 'Baylor College of Medicine, Department of Medicine, Houston, Texas, USA.'}], 'Identifier': [], 'LastName': 'Amspoker', 'ForeName': 'Amber B', 'Initials': 'AB'}, attributes={'ValidYN': 'Y'}), DictElement({'AffiliationInfo': [{'Identifier': [], 'Affiliation': 'VA HSR&D Houston Center of Innovations in Quality, Effectiveness and Safety, Michael E. DeBakey VA Medical Center, Houston, Texas, USA.'}, {'Identifier': [], 'Affiliation': 'VA South Central Mental Illness Research, Education and Clinical Center, Houston, Texas, USA.'}], 'Identifier': [], 'LastName': 'Wassef', 'ForeName': 'Miryam', 'Initials': 'M'}, attributes={'ValidYN': 'Y'}), DictElement({'AffiliationInfo': [{'Identifier': [], 'Affiliation': 'VA HSR&D Houston Center of Innovations in Quality, Effectiveness and Safety, Michael E. DeBakey VA Medical Center, Houston, Texas, USA.'}, {'Identifier': [], 'Affiliation': 'Menninger Department of Psychiatry and Behavioral Sciences, Baylor College of Medicine, Houston, Texas, USA.'}, {'Identifier': [], 'Affiliation': 'VA South Central Mental Illness Research, Education and Clinical Center, Houston, Texas, USA.'}], 'Identifier': [], 'LastName': 'Hogan', 'ForeName': 'Julianna B', 'Initials': 'JB'}, attributes={'ValidYN': 'Y'}), DictElement({'AffiliationInfo': [{'Identifier': [], 'Affiliation': 'VA HSR&D Houston Center of Innovations in Quality, Effectiveness and Safety, Michael E. DeBakey VA Medical Center, Houston, Texas, USA.'}, {'Identifier': [], 'Affiliation': 'VA South Central Mental Illness Research, Education and Clinical Center, Houston, Texas, USA.'}], 'Identifier': [], 'LastName': 'Helm', 'ForeName': 'Ashley', 'Initials': 'A'}, attributes={'ValidYN': 'Y'}), DictElement({'AffiliationInfo': [{'Identifier': [], 'Affiliation': 'VA New York Harbor Healthcare System, New York, New York, USA.'}], 'Identifier': [], 'LastName': 'Jackson', 'ForeName': 'Christie', 'Initials': 'C'}, attributes={'ValidYN': 'Y'}), DictElement({'AffiliationInfo': [{'Identifier': [], 'Affiliation': 'National Center for PTSD Dissemination and Training Division, VA Palo Alto Health Care System, Palo Alto, California, USA.'}], 'Identifier': [], 'LastName': 'Jacobs', 'ForeName': 'Adam', 'Initials': 'A'}, attributes={'ValidYN': 'Y'}), DictElement({'AffiliationInfo': [{'Identifier': [], 'Affiliation': 'National Center for PTSD Dissemination and Training Division, VA Palo Alto Health Care System, Palo Alto, California, USA.'}], 'Identifier': [], 'LastName': 'Shammet', 'ForeName': 'Rayan', 'Initials': 'R'}, attributes={'ValidYN': 'Y'}), DictElement({'AffiliationInfo': [{'Identifier': [], 'Affiliation': 'National Center for PTSD Dissemination and Training Division, VA Palo Alto Health Care System, Palo Alto, California, USA.'}], 'Identifier': [], 'LastName': 'Speicher', 'ForeName': 'Sarah', 'Initials': 'S'}, attributes={'ValidYN': 'Y'}), DictElement({'AffiliationInfo': [{'Identifier': [], 'Affiliation': 'VA HSR&D Houston Center of Innovations in Quality, Effectiveness and Safety, Michael E. DeBakey VA Medical Center, Houston, Texas, USA.'}, {'Identifier': [], 'Affiliation': 'VA South Central Mental Illness Research, Education and Clinical Center, Houston, Texas, USA.'}, {'Identifier': [], 'Affiliation': 'Baylor College of Medicine, Department of Medicine, Houston, Texas, USA.'}], 'Identifier': [StringElement('0000-0002-2853-0113', attributes={'Source': 'ORCID'})], 'LastName': 'Lindsay', 'ForeName': 'Jan A', 'Initials': 'JA'}, attributes={'ValidYN': 'Y'}), DictElement({'AffiliationInfo': [{'Identifier': [], 'Affiliation': 'National Center for PTSD Dissemination and Training Division, VA Palo Alto Health Care System, Palo Alto, California, USA.'}, {'Identifier': [], 'Affiliation': 'Department of Psychiatry and Behavioral Sciences, Stanford University, Stanford, California, USA.'}], 'Identifier': [StringElement('0000-0001-8029-1570', attributes={'Source': 'ORCID'})], 'LastName': 'Cloitre', 'ForeName': 'Marylène', 'Initials': 'M'}, attributes={'ValidYN': 'Y'})], attributes={'CompleteYN': 'Y'})\n",
      "PublicationTypeList\n",
      "\t [StringElement('Journal Article', attributes={'UI': 'D016428'}), StringElement('Randomized Controlled Trial', attributes={'UI': 'D016449'}), StringElement(\"Research Support, U.S. Gov't, Non-P.H.S.\", attributes={'UI': 'D013486'})]\n"
     ]
    }
   ],
   "source": [
    "print_dict( q[0][ 'MedlineCitation' ][ 'Article' ] )"
   ]
  },
  {
   "cell_type": "markdown",
   "metadata": {},
   "source": [
    "A paper's abstract can therefore be accessed with:"
   ]
  },
  {
   "cell_type": "code",
   "execution_count": 25,
   "metadata": {},
   "outputs": [
    {
     "data": {
      "text/plain": [
       "{34648188: 'While rural veterans with trauma exposure report high rates of posttraumatic stress disorder (PTSD), depression, and functional impairment, utilization of health services is low. This pilot study used mixed qualitative and quantitative methods to evaluate the potential benefits of a transdiagnostic web-based skills training program paired with telehealth-delivered coaching to address a range of symptoms and functional difficulties. The study directed substantial outreach efforts to women veterans who had experienced military sexual trauma given their growing representation in the Veterans Healthcare Administration (VHA) and identified need for services.'}"
      ]
     },
     "execution_count": 25,
     "metadata": {},
     "output_type": "execute_result"
    }
   ],
   "source": [
    "{ int(q[0]['MedlineCitation']['PMID']) : str(q[0]['MedlineCitation']['Article']['Abstract']['AbstractText'][0]) }"
   ]
  },
  {
   "cell_type": "markdown",
   "metadata": {},
   "source": [
    "Some of the ids in our dataset refer to books from the [NCBI Bookshelf](http://www.ncbi.nlm.nih.gov/books/), a collection of freely available, downloadable, on-line versions of selected biomedical books. For such ids, `Entrez.efetch()` returns a slightly different structure, where the keys `[u'BookDocument', u'PubmedBookData']` take the place of the `[u'MedlineCitation', u'PubmedData']` keys we saw above."
   ]
  },
  {
   "cell_type": "markdown",
   "metadata": {},
   "source": [
    "### Abstracts dataset"
   ]
  },
  {
   "cell_type": "markdown",
   "metadata": {},
   "source": [
    "We can now assemble a dataset mapping paper ids to their abstracts."
   ]
  },
  {
   "cell_type": "code",
   "execution_count": 26,
   "metadata": {},
   "outputs": [],
   "source": [
    "Abstracts_file = 'data2/' + search_term + '_Abstracts.pkl.bz2'"
   ]
  },
  {
   "cell_type": "code",
   "execution_count": 27,
   "metadata": {
    "scrolled": true
   },
   "outputs": [
    {
     "name": "stdout",
     "output_type": "stream",
     "text": [
      "Fetching Abstracts of results: \n",
      "\n",
      "0"
     ]
    },
    {
     "name": "stdout",
     "output_type": "stream",
     "text": [
      ".."
     ]
    }
   ],
   "source": [
    "import http.client\n",
    "from collections import deque\n",
    "from xml.dom import minidom\n",
    "import re\n",
    "\n",
    "def ch(node, childtype):\n",
    "    return node.getElementsByTagName(childtype)[0]\n",
    "\n",
    "if os.path.exists( Abstracts_file ):\n",
    "    Abstracts = pickle.load( bz2.BZ2File( Abstracts_file, 'rb' ) )\n",
    "else:\n",
    "    # `Abstracts` will be incrementally assembled, by performing multiple queries,\n",
    "    # each returning at most `retrieve_per_query` entries.\n",
    "    Abstracts = deque()\n",
    "    retrieve_per_query = 500\n",
    "    \n",
    "    print('Fetching Abstracts of results: ')\n",
    "    for start in range( 0, len(Ids), retrieve_per_query ):\n",
    "        if (start % 10000 == 0):\n",
    "            print('')\n",
    "            print(start, end='')\n",
    "        else:\n",
    "            print('.', end='')\n",
    "        \n",
    "        # build comma separated string with the ids at indexes [start, start+retrieve_per_query)\n",
    "        query_ids = ','.join( [ str(id) for id in Ids[ start : start+retrieve_per_query ] ] )\n",
    "        \n",
    "        # issue requests to the server, until we get the full amount of data we expect\n",
    "        while True:\n",
    "            try:\n",
    "                #s = Entrez.read( Entrez.efetch(db=\"pubmed\", id=query_ids, retmode=\"xml\" ) )['PubmedArticle']\n",
    "                s = minidom.parse( Entrez.efetch(db=\"pubmed\", id=query_ids, retmode=\"xml\" ) ).getElementsByTagName(\"PubmedArticle\")\n",
    "            except http.client.IncompleteRead:\n",
    "                print('r', end='')\n",
    "                continue\n",
    "            break\n",
    "        \n",
    "        i = 0\n",
    "        for p in s:\n",
    "            abstr = ''\n",
    "            if (p.getElementsByTagName('MedlineCitation')):\n",
    "                citNode = ch(p,'MedlineCitation')\n",
    "                pmid = ch(citNode,'PMID').firstChild.data\n",
    "                articleNode = ch(citNode,'Article')\n",
    "                if (articleNode.getElementsByTagName('Abstract')):\n",
    "                    try:\n",
    "                        abstr = ch(ch(articleNode,'Abstract'),'AbstractText').firstChild.data\n",
    "                    except AttributeError:\n",
    "                        abstr = ch(ch(articleNode,'Abstract'),'AbstractText').toprettyxml(\"  \")\n",
    "                        abstr = re.sub(r\"\\s+\", \" \", re.sub(\"<[^>]*>\", \"\", abstr))\n",
    "            elif (p.getElementsByTagName('BookDocument')):\n",
    "                bookNode = ch(p,'BookDocument')\n",
    "                pmid = ch(bookNode,'PMID').firstChild.data\n",
    "                if (bookNode.getElementsByTagName('Abstract')):\n",
    "                    try:\n",
    "                        abstr = ch(ch(bookNode,'Abstract'),'AbstractText').firstChild.data\n",
    "                    except AttributeError:\n",
    "                        abstr = ch(ch(bookNode,'Abstract'),'AbstractText').toprettyxml(\"  \")\n",
    "                        abstr = re.sub(r\"\\s+\", \" \", re.sub(\"<[^>]*>\", \"\", abstr))\n",
    "            else:\n",
    "                raise Exception('Unrecognized record type, for id %d (keys: %s)' % (Ids[start+i], str(p.keys())) )\n",
    "            \n",
    "            Abstracts.append( (int(pmid), str(abstr)) )\n",
    "            i += 1\n",
    "    \n",
    "    # Save Abstracts, as a dictionary indexed by Ids\n",
    "    Abstracts = dict( Abstracts )\n",
    "    \n",
    "    pickle.dump( Abstracts, bz2.BZ2File( Abstracts_file, 'wb' ) )"
   ]
  },
  {
   "cell_type": "markdown",
   "metadata": {},
   "source": [
    "Taking a look at one paper's abstract:"
   ]
  },
  {
   "cell_type": "code",
   "execution_count": 28,
   "metadata": {},
   "outputs": [
    {
     "ename": "KeyError",
     "evalue": "34648188",
     "output_type": "error",
     "traceback": [
      "\u001b[0;31m---------------------------------------------------------------------------\u001b[0m",
      "\u001b[0;31mKeyError\u001b[0m                                  Traceback (most recent call last)",
      "Cell \u001b[0;32mIn[28], line 1\u001b[0m\n\u001b[0;32m----> 1\u001b[0m \u001b[43mAbstracts\u001b[49m\u001b[43m[\u001b[49m\u001b[38;5;241;43m34648188\u001b[39;49m\u001b[43m]\u001b[49m\n",
      "\u001b[0;31mKeyError\u001b[0m: 34648188"
     ]
    }
   ],
   "source": [
    "Abstracts[34648188]"
   ]
  },
  {
   "cell_type": "markdown",
   "metadata": {},
   "source": [
    "## ELink: Searching for related items in NCBI Entrez"
   ]
  },
  {
   "cell_type": "markdown",
   "metadata": {},
   "source": [
    "To understand how to obtain paper citations with Entrez, we will first assemble a small set of PubMed IDs, and then query for their citations.\n",
    "To that end, we search here for papers published in the Nature journal with our given keyword."
   ]
  },
  {
   "cell_type": "code",
   "execution_count": 48,
   "metadata": {},
   "outputs": [
    {
     "data": {
      "text/plain": [
       "['36859543', '36418404', '28332550', '27556938', '25592533', '18385673', '17934448', '17410168', '17377536', '17108956', '15635411', '12748612', '9623995', '9333238', '9126732', '9000073', '8893004', '8596627', '7477374', '7990957']"
      ]
     },
     "execution_count": 48,
     "metadata": {},
     "output_type": "execute_result"
    }
   ],
   "source": [
    "CA_search_term = search_term+'[TIAB] AND Nature[JOUR]'\n",
    "CA_ids = Entrez.read( Entrez.esearch( db=\"pubmed\", term=CA_search_term ) )['IdList']\n",
    "CA_ids"
   ]
  },
  {
   "cell_type": "code",
   "execution_count": 49,
   "metadata": {},
   "outputs": [
    {
     "data": {
      "text/plain": [
       "{'36859543': ('Cardiogenic control of affective behavioural state.',\n",
       "  ['Hsueh B', 'Chen R', 'Jo Y', 'Tang D', 'Raffiee M', 'Kim YS', 'Inoue M', 'Randles S', 'Ramakrishnan C', 'Patel S', 'Kim DK', 'Liu TX', 'Kim SH', 'Tan L', 'Mortazavi L', 'Cordero A', 'Shi J', 'Zhao M', 'Ho TT', 'Crow A', 'Yoo AW', 'Raja C', 'Evans K', 'Bernstein D', 'Zeineh M', 'Goubran M', 'Deisseroth K'],\n",
       "  '2023',\n",
       "  'Nature',\n",
       "  '10.1038/s41586-023-05748-8'),\n",
       " '36418404': ('Structured cerebellar connectivity supports resilient pattern separation.',\n",
       "  ['Nguyen TM', 'Thomas LA', 'Rhoades JL', 'Ricchi I', 'Yuan XC', 'Sheridan A', 'Hildebrand DGC', 'Funke J', 'Regehr WG', 'Lee WA'],\n",
       "  '2023',\n",
       "  'Nature',\n",
       "  '10.1038/s41586-022-05471-w'),\n",
       " '28332550': ('Birds of play demonstrate the infectious power of emotion.',\n",
       "  [],\n",
       "  '2017',\n",
       "  'Nature',\n",
       "  '10.1038/543464a'),\n",
       " '27556938': ('Serotonin engages an anxiety and fear-promoting circuit in the extended amygdala.',\n",
       "  ['Marcinkiewcz CA', 'Mazzone CM', \"D'Agostino G\", 'Halladay LR', 'Hardaway JA', 'DiBerto JF', 'Navarro M', 'Burnham N', 'Cristiano C', 'Dorrier CE', 'Tipton GJ', 'Ramakrishnan C', 'Kozicz T', 'Deisseroth K', 'Thiele TE', 'McElligott ZA', 'Holmes A', 'Heisler LK', 'Kash TL'],\n",
       "  '2016',\n",
       "  'Nature',\n",
       "  '10.1038/nature19318'),\n",
       " '25592533': ('From circuits to behaviour in the amygdala.',\n",
       "  ['Janak PH', 'Tye KM'],\n",
       "  '2015',\n",
       "  'Nature',\n",
       "  '10.1038/nature14188'),\n",
       " '18385673': ('Genetic variation in human NPY expression affects stress response and emotion.',\n",
       "  ['Zhou Z', 'Zhu G', 'Hariri AR', 'Enoch MA', 'Scott D', 'Sinha R', 'Virkkunen M', 'Mash DC', 'Lipsky RH', 'Hu XZ', 'Hodgkinson CA', 'Xu K', 'Buzas B', 'Yuan Q', 'Shen PH', 'Ferrell RE', 'Manuck SB', 'Brown SM', 'Hauger RL', 'Stohler CS', 'Zubieta JK', 'Goldman D'],\n",
       "  '2008',\n",
       "  'Nature',\n",
       "  '10.1038/nature06858'),\n",
       " '17934448': ('PYY modulation of cortical and hypothalamic brain areas predicts feeding behaviour in humans.',\n",
       "  ['Batterham RL', 'ffytche DH', 'Rosenthal JM', 'Zelaya FO', 'Barker GJ', 'Withers DJ', 'Williams SC'],\n",
       "  '2007',\n",
       "  'Nature',\n",
       "  '10.1038/nature06212'),\n",
       " '17410168': ('Multimodal fast optical interrogation of neural circuitry.',\n",
       "  ['Zhang F', 'Wang LP', 'Brauner M', 'Liewald JF', 'Kay K', 'Watzke N', 'Wood PG', 'Bamberg E', 'Nagel G', 'Gottschalk A', 'Deisseroth K'],\n",
       "  '2007',\n",
       "  'Nature',\n",
       "  '10.1038/nature05744'),\n",
       " '17377536': ('Damage to the prefrontal cortex increases utilitarian moral judgements.',\n",
       "  ['Koenigs M', 'Young L', 'Adolphs R', 'Tranel D', 'Cushman F', 'Hauser M', 'Damasio A'],\n",
       "  '2007',\n",
       "  'Nature',\n",
       "  '10.1038/nature05631'),\n",
       " '17108956': ('Smell images and the flavour system in the human brain.',\n",
       "  ['Shepherd GM'],\n",
       "  '2006',\n",
       "  'Nature',\n",
       "  '10.1038/nature05405'),\n",
       " '15635411': ('A mechanism for impaired fear recognition after amygdala damage.',\n",
       "  ['Adolphs R', 'Gosselin F', 'Buchanan TW', 'Tranel D', 'Schyns P', 'Damasio AR'],\n",
       "  '2005',\n",
       "  'Nature',\n",
       "  '10.1038/nature03086'),\n",
       " '12748612': ('Making a song and dance about emotion.',\n",
       "  ['Marshall RC'],\n",
       "  '2003',\n",
       "  'Nature',\n",
       "  '10.1038/423221c'),\n",
       " '9623995': ('A new image for fear and emotion.',\n",
       "  ['Hyman SE'],\n",
       "  '1998',\n",
       "  'Nature',\n",
       "  '10.1038/30855'),\n",
       " '9333238': ('A specific neural substrate for perceiving facial expressions of disgust.',\n",
       "  ['Phillips ML', 'Young AW', 'Senior C', 'Brammer M', 'Andrew C', 'Calder AJ', 'Bullmore ET', 'Perrett DI', 'Rowland D', 'Williams SC', 'Gray JA', 'David AS'],\n",
       "  '1997',\n",
       "  'Nature',\n",
       "  '10.1038/39051'),\n",
       " '9126732': ('Neuropsychology. Towards a neuropathology of emotion and mood.',\n",
       "  ['Damasio AR'],\n",
       "  '1997',\n",
       "  'Nature',\n",
       "  '10.1038/386769a0'),\n",
       " '9000073': ('Impaired auditory recognition of fear and anger following bilateral amygdala lesions.',\n",
       "  ['Scott SK', 'Young AW', 'Calder AJ', 'Hellawell DJ', 'Aggleton JP', 'Johnson M'],\n",
       "  '1997',\n",
       "  'Nature',\n",
       "  '10.1038/385254a0'),\n",
       " '8893004': ('A differential neural response in the human amygdala to fearful and happy facial expressions.',\n",
       "  ['Morris JS', 'Frith CD', 'Perrett DI', 'Rowland D', 'Young AW', 'Calder AJ', 'Dolan RJ'],\n",
       "  '1996',\n",
       "  'Nature',\n",
       "  '10.1038/383812a0'),\n",
       " '8596627': ('Recognizing facial emotion.',\n",
       "  ['Hamann SB', 'Stefanacci L', 'Squire LR', 'Adolphs R', 'Tranel D', 'Damasio H', 'Damasio A'],\n",
       "  '1996',\n",
       "  'Nature',\n",
       "  '10.1038/379497a0'),\n",
       " '7477374': ('Behavioural abnormalities in male mice lacking neuronal nitric oxide synthase.',\n",
       "  ['Nelson RJ', 'Demas GE', 'Huang PL', 'Fishman MC', 'Dawson VL', 'Dawson TM', 'Snyder SH'],\n",
       "  '1995',\n",
       "  'Nature',\n",
       "  '10.1038/378383a0'),\n",
       " '7990957': ('Impaired recognition of emotion in facial expressions following bilateral damage to the human amygdala.',\n",
       "  ['Adolphs R', 'Tranel D', 'Damasio H', 'Damasio A'],\n",
       "  '1994',\n",
       "  'Nature',\n",
       "  '10.1038/372669a0')}"
      ]
     },
     "execution_count": 49,
     "metadata": {},
     "output_type": "execute_result"
    }
   ],
   "source": [
    "CA_summ = {\n",
    "    p['Id'] : ( p['Title'], p['AuthorList'], p['PubDate'][:4], p['FullJournalName'], p.get('DOI', '') )\n",
    "    for p in Entrez.read( Entrez.esummary(db=\"pubmed\", id=','.join( CA_ids )) )\n",
    "    }\n",
    "CA_summ"
   ]
  },
  {
   "cell_type": "markdown",
   "metadata": {},
   "source": [
    "Because we restricted our search to papers in an open-access journal, you can then follow their DOIs to freely access their PDFs at the journal's website."
   ]
  },
  {
   "cell_type": "markdown",
   "metadata": {},
   "source": [
    "We will now issue calls to `Entrez.elink()` using these PubMed IDs, to retrieve the IDs of papers that cite them.\n",
    "The database from which the IDs will be retrieved is [PubMed Central](http://www.ncbi.nlm.nih.gov/pmc/), a free digital database of full-text scientific literature in the biomedical and life sciences.\n",
    "\n",
    "A complete list of the kinds of links you can retrieve with `Entrez.elink()` can be found [here](http://eutils.ncbi.nlm.nih.gov/entrez/query/static/entrezlinks.html)."
   ]
  },
  {
   "cell_type": "code",
   "execution_count": 50,
   "metadata": {},
   "outputs": [],
   "source": [
    "CA_citing = {\n",
    "    id : Entrez.read( Entrez.elink(\n",
    "            cmd = \"neighbor\",               # ELink command mode: \"neighbor\", returns\n",
    "                                            #     a set of UIDs in `db` linked to the input UIDs in `dbfrom`.\n",
    "            dbfrom = \"pubmed\",              # Database containing the input UIDs: PubMed\n",
    "            db = \"pmc\",                     # Database from which to retrieve UIDs: PubMed Central\n",
    "            LinkName = \"pubmed_pmc_refs\",   # Name of the Entrez link to retrieve: \"pubmed_pmc_refs\", gets\n",
    "                                            #     \"Full-text articles in the PubMed Central Database that cite the current articles\"\n",
    "            from_uid = id                   # input UIDs\n",
    "            ) )\n",
    "    for id in CA_ids\n",
    "    }"
   ]
  },
  {
   "cell_type": "code",
   "execution_count": 51,
   "metadata": {},
   "outputs": [
    {
     "ename": "KeyError",
     "evalue": "'13907952'",
     "output_type": "error",
     "traceback": [
      "\u001b[0;31m---------------------------------------------------------------------------\u001b[0m",
      "\u001b[0;31mKeyError\u001b[0m                                  Traceback (most recent call last)",
      "Cell \u001b[0;32mIn[51], line 1\u001b[0m\n\u001b[0;32m----> 1\u001b[0m \u001b[43mCA_citing\u001b[49m\u001b[43m[\u001b[49m\u001b[38;5;124;43m'\u001b[39;49m\u001b[38;5;124;43m13907952\u001b[39;49m\u001b[38;5;124;43m'\u001b[39;49m\u001b[43m]\u001b[49m\n",
      "\u001b[0;31mKeyError\u001b[0m: '13907952'"
     ]
    }
   ],
   "source": [
    "CA_citing['13907952']"
   ]
  },
  {
   "cell_type": "markdown",
   "metadata": {},
   "source": [
    "We have in `CA_citing[paper_id][0]['LinkSetDb'][0]['Link']` the list of papers citing `paper_id`. To get it as just a list of ids, we can do"
   ]
  },
  {
   "cell_type": "code",
   "execution_count": 32,
   "metadata": {},
   "outputs": [
    {
     "data": {
      "text/plain": [
       "['6143708', '493438', '369394']"
      ]
     },
     "execution_count": 32,
     "metadata": {},
     "output_type": "execute_result"
    }
   ],
   "source": [
    "cits = [ l['Id'] for l in CA_citing['13907952'][0]['LinkSetDb'][0]['Link'] ]\n",
    "cits"
   ]
  },
  {
   "cell_type": "markdown",
   "metadata": {},
   "source": [
    "However, one more step is needed, as what we have now are PubMed Central IDs, and not PubMed IDs. Their conversion can be achieved through an additional call to `Entrez.elink()`:"
   ]
  },
  {
   "cell_type": "code",
   "execution_count": 33,
   "metadata": {},
   "outputs": [
    {
     "data": {
      "text/plain": [
       "[{'LinkSetDb': [{'Link': [{'Id': '30258373'}, {'Id': '5443477'}, {'Id': '1996089'}], 'DbTo': 'pubmed', 'LinkName': 'pmc_pubmed'}], 'ERROR': [], 'LinkSetDbHistory': [], 'DbFrom': 'pmc', 'IdList': ['6143708', '493438', '369394']}]"
      ]
     },
     "execution_count": 33,
     "metadata": {},
     "output_type": "execute_result"
    }
   ],
   "source": [
    "cits_pm = Entrez.read( Entrez.elink( dbfrom=\"pmc\", db=\"pubmed\", LinkName=\"pmc_pubmed\", from_uid=\",\".join(cits)) )\n",
    "cits_pm"
   ]
  },
  {
   "cell_type": "code",
   "execution_count": 34,
   "metadata": {},
   "outputs": [
    {
     "data": {
      "text/plain": [
       "{'6143708': '30258373', '493438': '5443477', '369394': '1996089'}"
      ]
     },
     "execution_count": 34,
     "metadata": {},
     "output_type": "execute_result"
    }
   ],
   "source": [
    "ids_map = { pmc_id : link['Id'] for (pmc_id,link) in zip(cits_pm[0]['IdList'], cits_pm[0]['LinkSetDb'][0]['Link']) }\n",
    "ids_map"
   ]
  },
  {
   "cell_type": "markdown",
   "metadata": {},
   "source": [
    "And to check these papers:"
   ]
  },
  {
   "cell_type": "code",
   "execution_count": 35,
   "metadata": {},
   "outputs": [
    {
     "data": {
      "text/plain": [
       "{'30258373': ('Role of Frontostriatal Connectivity in Adolescents With Excessive Smartphone Use.',\n",
       "  ['Chun JW', 'Choi J', 'Cho H', 'Choi MR', 'Ahn KJ', 'Choi JS', 'Kim DJ'],\n",
       "  '2018',\n",
       "  'Frontiers in psychiatry',\n",
       "  '10.3389/fpsyt.2018.00437'),\n",
       " '5443477': ('A taxonomic study of physiological responses to a psychological stress.',\n",
       "  ['Bridges PK', 'Jones MT', 'Leak D'],\n",
       "  '1970',\n",
       "  'Journal of neurology, neurosurgery, and psychiatry',\n",
       "  '10.1136/jnnp.33.2.180'),\n",
       " '1996089': ('Heat shock transcription factor activates transcription of the yeast metallothionein gene.',\n",
       "  ['Silar P', 'Butler G', 'Thiele DJ'],\n",
       "  '1991',\n",
       "  'Molecular and cellular biology',\n",
       "  '10.1128/mcb.11.3.1232-1238.1991')}"
      ]
     },
     "execution_count": 35,
     "metadata": {},
     "output_type": "execute_result"
    }
   ],
   "source": [
    "{   p['Id'] : ( p['Title'], p['AuthorList'], p['PubDate'][:4], p['FullJournalName'], p.get('DOI', '') )\n",
    "    for p in Entrez.read( Entrez.esummary(db=\"pubmed\", id=','.join( ids_map.values() )) )\n",
    "    }"
   ]
  },
  {
   "cell_type": "markdown",
   "metadata": {},
   "source": [
    "### Citations dataset"
   ]
  },
  {
   "cell_type": "markdown",
   "metadata": {},
   "source": [
    "We have now seen all the steps required to assemble a dataset of citations to each of the papers in our dataset."
   ]
  },
  {
   "cell_type": "code",
   "execution_count": 36,
   "metadata": {},
   "outputs": [],
   "source": [
    "Citations_file = 'data2/' + search_term + '_Citations.pkl.bz2'\n",
    "Citations = []"
   ]
  },
  {
   "cell_type": "markdown",
   "metadata": {},
   "source": [
    "At least one server query will be issued per paper in `Ids`. Because NCBI allows for at most 3 queries per second (see [here](http://biopython.org/DIST/docs/api/Bio.Entrez-pysrc.html#_open)), this dataset will take a long time to assemble. Should you need to interrupt it for some reason, or the connection fail at some point, it is safe to just rerun the cell below until all data is collected."
   ]
  },
  {
   "cell_type": "code",
   "execution_count": 37,
   "metadata": {},
   "outputs": [
    {
     "name": "stdout",
     "output_type": "stream",
     "text": [
      ".....\tsaving at checkpoint 19065\n",
      ".....\tsaving at checkpoint 19530\n",
      "....\tsaving at checkpoint 19995\n",
      "\n",
      "20000.....\tsaving at checkpoint 20460\n",
      ".....\tsaving at checkpoint 20925\n",
      "....\tsaving at checkpoint 21390\n",
      ".....\tsaving at checkpoint 21855\n",
      ".....\tsaving at checkpoint 22320\n",
      "....\tsaving at checkpoint 22785\n",
      ".....\tsaving at checkpoint 23250\n",
      ".....\tsaving at checkpoint 23715\n",
      "....\tsaving at checkpoint 24180\n",
      ".....\tsaving at checkpoint 24645\n",
      ".....\tsaving at checkpoint 25110\n",
      "....\tsaving at checkpoint 25575\n",
      ".....\tsaving at checkpoint 26040\n",
      ".....\tsaving at checkpoint 26505\n",
      "....\tsaving at checkpoint 26970\n",
      ".....\tsaving at checkpoint 27435\n",
      "....\tsaving at checkpoint 27900\n",
      ".....\tsaving at checkpoint 28365\n",
      ".....\tsaving at checkpoint 28830\n",
      "....\tsaving at checkpoint 29295\n",
      ".....\tsaving at checkpoint 29760\n",
      "..\n",
      "30000...\tsaving at checkpoint 30225\n",
      "....\tsaving at checkpoint 30690\n",
      ".....\tsaving at checkpoint 31155\n",
      ".....\tsaving at checkpoint 31620\n",
      "....\tsaving at checkpoint 32085\n",
      ".....\tsaving at checkpoint 32550\n",
      ".....\tsaving at checkpoint 33015\n",
      "....\tsaving at checkpoint 33480\n",
      ".....\tsaving at checkpoint 33945\n",
      ".....\tsaving at checkpoint 34410\n",
      "....\tsaving at checkpoint 34875\n",
      ".....\tsaving at checkpoint 35340\n",
      ".....\tsaving at checkpoint 35805\n",
      "....\tsaving at checkpoint 36270\n",
      ".....\tsaving at checkpoint 36735\n",
      "....\tsaving at checkpoint 37200\n",
      ".....\tsaving at checkpoint 37665\n",
      ".....\tsaving at checkpoint 38130\n",
      "....\tsaving at checkpoint 38595\n",
      ".....\tsaving at checkpoint 39060\n",
      ".....\tsaving at checkpoint 39525\n",
      "....\tsaving at checkpoint 39990\n",
      "\n",
      "40000.....\tsaving at checkpoint 40455\n",
      ".....\tsaving at checkpoint 40920\n",
      "....\tsaving at checkpoint 41385\n",
      ".....\tsaving at checkpoint 41850\n",
      ".....\tsaving at checkpoint 42315\n",
      "....\tsaving at checkpoint 42780\n",
      ".....\tsaving at checkpoint 43245\n",
      ".....\tsaving at checkpoint 43710\n",
      "....\tsaving at checkpoint 44175\n",
      ".....\tsaving at checkpoint 44640\n",
      ".....\tsaving at checkpoint 45105\n",
      "....\tsaving at checkpoint 45570\n",
      ".....\tsaving at checkpoint 46035\n",
      "....\n",
      " done.\n"
     ]
    }
   ],
   "source": [
    "import http.client\n",
    "\n",
    "if Citations == [] and os.path.exists( Citations_file ):\n",
    "    Citations = pickle.load( bz2.BZ2File( Citations_file, 'rb' ) )\n",
    "\n",
    "if len(Citations) < len(Ids):\n",
    "    \n",
    "    i = len(Citations)\n",
    "    checkpoint = int(len(Ids) / 100) + 1      # save to hard drive at every 1% of Ids fetched\n",
    "    \n",
    "    for pm_id in Ids[i:]:               # either starts from index 0, or resumes from where we previously left off\n",
    "        \n",
    "        while True:\n",
    "            try:\n",
    "                # query for papers archived in PubMed Central that cite the paper with PubMed ID `pm_id`\n",
    "                c = Entrez.read( Entrez.elink( dbfrom = \"pubmed\", db=\"pmc\", LinkName = \"pubmed_pmc_refs\", id=str(pm_id) ) )\n",
    "                \n",
    "                c = c[0]['LinkSetDb']\n",
    "                if len(c) == 0:\n",
    "                    # no citations found for the current paper\n",
    "                    c = []\n",
    "                else:\n",
    "                    c = [ l['Id'] for l in c[0]['Link'] ]\n",
    "                    \n",
    "                    # convert citations from PubMed Central IDs to PubMed IDs\n",
    "                    p = []\n",
    "                    retrieve_per_query = 500\n",
    "                    for start in range( 0, len(c), retrieve_per_query ):\n",
    "                        query_ids = ','.join( c[start : start+retrieve_per_query] )\n",
    "                        r = Entrez.read( Entrez.elink( dbfrom=\"pmc\", db=\"pubmed\", LinkName=\"pmc_pubmed\", from_uid=query_ids ) )\n",
    "                        # select the IDs. If no matching PubMed ID was found, [] is returned instead\n",
    "                        p.extend( [] if r[0]['LinkSetDb']==[] else [ int(link['Id']) for link in r[0]['LinkSetDb'][0]['Link'] ] )\n",
    "                    c = p\n",
    "            \n",
    "            except http.client.BadStatusLine:\n",
    "                # Presumably, the server closed the connection before sending a valid response. Retry until we have the data.\n",
    "                print('r')\n",
    "                continue\n",
    "            except HTTPError:\n",
    "                print('r')\n",
    "                continue\n",
    "            break\n",
    "        \n",
    "        Citations.append( (pm_id, c) )\n",
    "        if (i % 10000 == 0):\n",
    "            print('')\n",
    "            print(i, end='')\n",
    "        if (i % 100 == 0):\n",
    "            print('.', end='')\n",
    "        i += 1\n",
    "        \n",
    "        if i % checkpoint == 0:\n",
    "            print('\\tsaving at checkpoint', i)\n",
    "            pickle.dump( Citations, bz2.BZ2File( Citations_file, 'wb' ) )\n",
    "    \n",
    "    print('\\n done.')\n",
    "    \n",
    "    # Save Citations, as a dictionary indexed by Ids\n",
    "    Citations = dict( Citations )\n",
    "    \n",
    "    pickle.dump( Citations, bz2.BZ2File( Citations_file, 'wb' ) )"
   ]
  },
  {
   "cell_type": "markdown",
   "metadata": {},
   "source": [
    "To see that we have indeed obtained the data we expected, you can match the ids below, with the ids listed at the end of last section."
   ]
  },
  {
   "cell_type": "code",
   "execution_count": 38,
   "metadata": {},
   "outputs": [
    {
     "data": {
      "text/plain": [
       "[30258373, 5443477, 1996089]"
      ]
     },
     "execution_count": 38,
     "metadata": {},
     "output_type": "execute_result"
    }
   ],
   "source": [
    "Citations[13907952]"
   ]
  },
  {
   "cell_type": "markdown",
   "metadata": {},
   "source": [
    "## Where do we go from here?"
   ]
  },
  {
   "cell_type": "markdown",
   "metadata": {},
   "source": [
    "Running the code above generates multiple local files, containing the datasets we'll be working with. Loading them into memory is a matter of just issuing a call like<br>\n",
    "``data = pickle.load( bz2.BZ2File( data_file, 'rb' ) )``.\n",
    "\n",
    "The Entrez module will therefore no longer be needed, unless you wish to extend your data processing with additional information retrieved from PubMed.\n",
    "\n",
    "Should you be interested in looking at alternative ways to handle the data, have a look at the [sqlite3](http://docs.python.org/3/library/sqlite3.html) module included in Python's standard library, or [Pandas](http://pandas.pydata.org/), the Python Data Analysis Library."
   ]
  }
 ],
 "metadata": {
  "kernelspec": {
   "display_name": "Python 3",
   "language": "python",
   "name": "python3"
  },
  "language_info": {
   "codemirror_mode": {
    "name": "ipython",
    "version": 3
   },
   "file_extension": ".py",
   "mimetype": "text/x-python",
   "name": "python",
   "nbconvert_exporter": "python",
   "pygments_lexer": "ipython3",
   "version": "3.12.1"
  }
 },
 "nbformat": 4,
 "nbformat_minor": 4
}
